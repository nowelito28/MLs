{
 "cells": [
  {
   "attachments": {},
   "cell_type": "markdown",
   "id": "19e8783d",
   "metadata": {},
   "source": [
    "# Práctica 1"
   ]
  },
  {
   "cell_type": "code",
   "execution_count": 1,
   "id": "53e78531",
   "metadata": {},
   "outputs": [],
   "source": [
    "# Librerías\n",
    "# Nota: puedes importar cualquier otra librería que necesites usar\n",
    "\n",
    "import numpy as np\n",
    "import pandas as pd\n",
    "import matplotlib.pyplot as plt\n",
    "import seaborn as sns"
   ]
  },
  {
   "cell_type": "code",
   "execution_count": 2,
   "id": "672aac04",
   "metadata": {},
   "outputs": [
    {
     "name": "stdout",
     "output_type": "stream",
     "text": [
      "Requirement already satisfied: tftb in /opt/anaconda3/lib/python3.12/site-packages (0.2.0)\n",
      "Requirement already satisfied: matplotlib<4.0.0,>=3.6.0 in /opt/anaconda3/lib/python3.12/site-packages (from tftb) (3.9.2)\n",
      "Requirement already satisfied: numpy<2.0.0,>=1.22.4 in /opt/anaconda3/lib/python3.12/site-packages (from tftb) (1.26.4)\n",
      "Requirement already satisfied: scipy<2.0.0,>=1.9.0 in /opt/anaconda3/lib/python3.12/site-packages (from tftb) (1.13.1)\n",
      "Requirement already satisfied: contourpy>=1.0.1 in /opt/anaconda3/lib/python3.12/site-packages (from matplotlib<4.0.0,>=3.6.0->tftb) (1.2.0)\n",
      "Requirement already satisfied: cycler>=0.10 in /opt/anaconda3/lib/python3.12/site-packages (from matplotlib<4.0.0,>=3.6.0->tftb) (0.11.0)\n",
      "Requirement already satisfied: fonttools>=4.22.0 in /opt/anaconda3/lib/python3.12/site-packages (from matplotlib<4.0.0,>=3.6.0->tftb) (4.51.0)\n",
      "Requirement already satisfied: kiwisolver>=1.3.1 in /opt/anaconda3/lib/python3.12/site-packages (from matplotlib<4.0.0,>=3.6.0->tftb) (1.4.4)\n",
      "Requirement already satisfied: packaging>=20.0 in /opt/anaconda3/lib/python3.12/site-packages (from matplotlib<4.0.0,>=3.6.0->tftb) (24.1)\n",
      "Requirement already satisfied: pillow>=8 in /opt/anaconda3/lib/python3.12/site-packages (from matplotlib<4.0.0,>=3.6.0->tftb) (10.4.0)\n",
      "Requirement already satisfied: pyparsing>=2.3.1 in /opt/anaconda3/lib/python3.12/site-packages (from matplotlib<4.0.0,>=3.6.0->tftb) (3.1.2)\n",
      "Requirement already satisfied: python-dateutil>=2.7 in /opt/anaconda3/lib/python3.12/site-packages (from matplotlib<4.0.0,>=3.6.0->tftb) (2.9.0.post0)\n",
      "Requirement already satisfied: six>=1.5 in /opt/anaconda3/lib/python3.12/site-packages (from python-dateutil>=2.7->matplotlib<4.0.0,>=3.6.0->tftb) (1.16.0)\n"
     ]
    }
   ],
   "source": [
    "!pip install tftb"
   ]
  },
  {
   "cell_type": "code",
   "execution_count": 3,
   "id": "cda03def",
   "metadata": {},
   "outputs": [
    {
     "name": "stdout",
     "output_type": "stream",
     "text": [
      "Requirement already satisfied: pyEDFlib in /opt/anaconda3/lib/python3.12/site-packages (0.1.39)\n",
      "Requirement already satisfied: numpy>=1.9.1 in /opt/anaconda3/lib/python3.12/site-packages (from pyEDFlib) (1.26.4)\n"
     ]
    }
   ],
   "source": [
    "!pip install pyEDFlib"
   ]
  },
  {
   "cell_type": "code",
   "execution_count": 4,
   "id": "4ab1b6ee",
   "metadata": {},
   "outputs": [
    {
     "name": "stdout",
     "output_type": "stream",
     "text": [
      "Requirement already satisfied: pywavelets in /opt/anaconda3/lib/python3.12/site-packages (1.7.0)\n",
      "Requirement already satisfied: numpy<3,>=1.23 in /opt/anaconda3/lib/python3.12/site-packages (from pywavelets) (1.26.4)\n"
     ]
    }
   ],
   "source": [
    "!pip install pywavelets"
   ]
  },
  {
   "cell_type": "code",
   "execution_count": 5,
   "id": "a66e0b6c",
   "metadata": {},
   "outputs": [
    {
     "name": "stdout",
     "output_type": "stream",
     "text": [
      "Requirement already satisfied: plotly in /opt/anaconda3/lib/python3.12/site-packages (5.24.1)\n",
      "Requirement already satisfied: tenacity>=6.2.0 in /opt/anaconda3/lib/python3.12/site-packages (from plotly) (8.2.3)\n",
      "Requirement already satisfied: packaging in /opt/anaconda3/lib/python3.12/site-packages (from plotly) (24.1)\n"
     ]
    }
   ],
   "source": [
    "!pip install plotly"
   ]
  },
  {
   "cell_type": "code",
   "execution_count": 6,
   "id": "a1947353",
   "metadata": {},
   "outputs": [
    {
     "name": "stdout",
     "output_type": "stream",
     "text": [
      "Requirement already satisfied: wfdb in /opt/anaconda3/lib/python3.12/site-packages (4.2.0)\n",
      "Requirement already satisfied: matplotlib>=3.2.2 in /opt/anaconda3/lib/python3.12/site-packages (from wfdb) (3.9.2)\n",
      "Requirement already satisfied: numpy>=1.26.4 in /opt/anaconda3/lib/python3.12/site-packages (from wfdb) (1.26.4)\n",
      "Requirement already satisfied: pandas>=2.2.3 in /opt/anaconda3/lib/python3.12/site-packages (from wfdb) (2.2.3)\n",
      "Requirement already satisfied: requests>=2.8.1 in /opt/anaconda3/lib/python3.12/site-packages (from wfdb) (2.32.3)\n",
      "Requirement already satisfied: scipy>=1.13.0 in /opt/anaconda3/lib/python3.12/site-packages (from wfdb) (1.13.1)\n",
      "Requirement already satisfied: soundfile>=0.10.0 in /opt/anaconda3/lib/python3.12/site-packages (from wfdb) (0.13.1)\n",
      "Requirement already satisfied: contourpy>=1.0.1 in /opt/anaconda3/lib/python3.12/site-packages (from matplotlib>=3.2.2->wfdb) (1.2.0)\n",
      "Requirement already satisfied: cycler>=0.10 in /opt/anaconda3/lib/python3.12/site-packages (from matplotlib>=3.2.2->wfdb) (0.11.0)\n",
      "Requirement already satisfied: fonttools>=4.22.0 in /opt/anaconda3/lib/python3.12/site-packages (from matplotlib>=3.2.2->wfdb) (4.51.0)\n",
      "Requirement already satisfied: kiwisolver>=1.3.1 in /opt/anaconda3/lib/python3.12/site-packages (from matplotlib>=3.2.2->wfdb) (1.4.4)\n",
      "Requirement already satisfied: packaging>=20.0 in /opt/anaconda3/lib/python3.12/site-packages (from matplotlib>=3.2.2->wfdb) (24.1)\n",
      "Requirement already satisfied: pillow>=8 in /opt/anaconda3/lib/python3.12/site-packages (from matplotlib>=3.2.2->wfdb) (10.4.0)\n",
      "Requirement already satisfied: pyparsing>=2.3.1 in /opt/anaconda3/lib/python3.12/site-packages (from matplotlib>=3.2.2->wfdb) (3.1.2)\n",
      "Requirement already satisfied: python-dateutil>=2.7 in /opt/anaconda3/lib/python3.12/site-packages (from matplotlib>=3.2.2->wfdb) (2.9.0.post0)\n",
      "Requirement already satisfied: pytz>=2020.1 in /opt/anaconda3/lib/python3.12/site-packages (from pandas>=2.2.3->wfdb) (2024.1)\n",
      "Requirement already satisfied: tzdata>=2022.7 in /opt/anaconda3/lib/python3.12/site-packages (from pandas>=2.2.3->wfdb) (2023.3)\n",
      "Requirement already satisfied: charset-normalizer<4,>=2 in /opt/anaconda3/lib/python3.12/site-packages (from requests>=2.8.1->wfdb) (3.3.2)\n",
      "Requirement already satisfied: idna<4,>=2.5 in /opt/anaconda3/lib/python3.12/site-packages (from requests>=2.8.1->wfdb) (3.7)\n",
      "Requirement already satisfied: urllib3<3,>=1.21.1 in /opt/anaconda3/lib/python3.12/site-packages (from requests>=2.8.1->wfdb) (2.2.3)\n",
      "Requirement already satisfied: certifi>=2017.4.17 in /opt/anaconda3/lib/python3.12/site-packages (from requests>=2.8.1->wfdb) (2024.12.14)\n",
      "Requirement already satisfied: cffi>=1.0 in /opt/anaconda3/lib/python3.12/site-packages (from soundfile>=0.10.0->wfdb) (1.17.1)\n",
      "Requirement already satisfied: pycparser in /opt/anaconda3/lib/python3.12/site-packages (from cffi>=1.0->soundfile>=0.10.0->wfdb) (2.21)\n",
      "Requirement already satisfied: six>=1.5 in /opt/anaconda3/lib/python3.12/site-packages (from python-dateutil>=2.7->matplotlib>=3.2.2->wfdb) (1.16.0)\n"
     ]
    }
   ],
   "source": [
    "!pip install wfdb"
   ]
  },
  {
   "cell_type": "code",
   "execution_count": 7,
   "id": "cf8c1c27",
   "metadata": {},
   "outputs": [
    {
     "name": "stdout",
     "output_type": "stream",
     "text": [
      "Requirement already satisfied: cvxpy in /opt/anaconda3/lib/python3.12/site-packages (1.6.0)\n",
      "Requirement already satisfied: osqp>=0.6.2 in /opt/anaconda3/lib/python3.12/site-packages (from cvxpy) (0.6.7.post3)\n",
      "Requirement already satisfied: clarabel>=0.5.0 in /opt/anaconda3/lib/python3.12/site-packages (from cvxpy) (0.9.0)\n",
      "Requirement already satisfied: scs>=3.2.4.post1 in /opt/anaconda3/lib/python3.12/site-packages (from cvxpy) (3.2.7.post2)\n",
      "Requirement already satisfied: numpy>=1.20 in /opt/anaconda3/lib/python3.12/site-packages (from cvxpy) (1.26.4)\n",
      "Requirement already satisfied: scipy>=1.1.0 in /opt/anaconda3/lib/python3.12/site-packages (from cvxpy) (1.13.1)\n",
      "Requirement already satisfied: qdldl in /opt/anaconda3/lib/python3.12/site-packages (from osqp>=0.6.2->cvxpy) (0.1.7.post5)\n"
     ]
    }
   ],
   "source": [
    "!pip install cvxpy"
   ]
  },
  {
   "cell_type": "code",
   "execution_count": 8,
   "id": "20cdd50a",
   "metadata": {},
   "outputs": [
    {
     "name": "stdout",
     "output_type": "stream",
     "text": [
      "Requirement already satisfied: statsmodels in /opt/anaconda3/lib/python3.12/site-packages (0.14.2)\n",
      "Requirement already satisfied: numpy>=1.22.3 in /opt/anaconda3/lib/python3.12/site-packages (from statsmodels) (1.26.4)\n",
      "Requirement already satisfied: scipy!=1.9.2,>=1.8 in /opt/anaconda3/lib/python3.12/site-packages (from statsmodels) (1.13.1)\n",
      "Requirement already satisfied: pandas!=2.1.0,>=1.4 in /opt/anaconda3/lib/python3.12/site-packages (from statsmodels) (2.2.3)\n",
      "Requirement already satisfied: patsy>=0.5.6 in /opt/anaconda3/lib/python3.12/site-packages (from statsmodels) (0.5.6)\n",
      "Requirement already satisfied: packaging>=21.3 in /opt/anaconda3/lib/python3.12/site-packages (from statsmodels) (24.1)\n",
      "Requirement already satisfied: python-dateutil>=2.8.2 in /opt/anaconda3/lib/python3.12/site-packages (from pandas!=2.1.0,>=1.4->statsmodels) (2.9.0.post0)\n",
      "Requirement already satisfied: pytz>=2020.1 in /opt/anaconda3/lib/python3.12/site-packages (from pandas!=2.1.0,>=1.4->statsmodels) (2024.1)\n",
      "Requirement already satisfied: tzdata>=2022.7 in /opt/anaconda3/lib/python3.12/site-packages (from pandas!=2.1.0,>=1.4->statsmodels) (2023.3)\n",
      "Requirement already satisfied: six in /opt/anaconda3/lib/python3.12/site-packages (from patsy>=0.5.6->statsmodels) (1.16.0)\n"
     ]
    }
   ],
   "source": [
    "!pip install statsmodels"
   ]
  },
  {
   "cell_type": "code",
   "execution_count": 9,
   "id": "e4bf7a9e",
   "metadata": {},
   "outputs": [
    {
     "name": "stdout",
     "output_type": "stream",
     "text": [
      "Requirement already satisfied: spectrum in /opt/anaconda3/lib/python3.12/site-packages (0.9.0)\n",
      "Requirement already satisfied: easydev in /opt/anaconda3/lib/python3.12/site-packages (from spectrum) (0.13.3)\n",
      "Requirement already satisfied: numpy in /opt/anaconda3/lib/python3.12/site-packages (from spectrum) (1.26.4)\n",
      "Requirement already satisfied: scipy in /opt/anaconda3/lib/python3.12/site-packages (from spectrum) (1.13.1)\n",
      "Requirement already satisfied: matplotlib in /opt/anaconda3/lib/python3.12/site-packages (from spectrum) (3.9.2)\n",
      "Requirement already satisfied: colorama<0.5.0,>=0.4.6 in /opt/anaconda3/lib/python3.12/site-packages (from easydev->spectrum) (0.4.6)\n",
      "Requirement already satisfied: colorlog<7.0.0,>=6.8.2 in /opt/anaconda3/lib/python3.12/site-packages (from easydev->spectrum) (6.9.0)\n",
      "Requirement already satisfied: line-profiler<5.0.0,>=4.1.2 in /opt/anaconda3/lib/python3.12/site-packages (from easydev->spectrum) (4.2.0)\n",
      "Requirement already satisfied: pexpect<5.0.0,>=4.9.0 in /opt/anaconda3/lib/python3.12/site-packages (from easydev->spectrum) (4.9.0)\n",
      "Requirement already satisfied: platformdirs<5.0.0,>=4.2.0 in /opt/anaconda3/lib/python3.12/site-packages (from easydev->spectrum) (4.3.6)\n",
      "Requirement already satisfied: contourpy>=1.0.1 in /opt/anaconda3/lib/python3.12/site-packages (from matplotlib->spectrum) (1.2.0)\n",
      "Requirement already satisfied: cycler>=0.10 in /opt/anaconda3/lib/python3.12/site-packages (from matplotlib->spectrum) (0.11.0)\n",
      "Requirement already satisfied: fonttools>=4.22.0 in /opt/anaconda3/lib/python3.12/site-packages (from matplotlib->spectrum) (4.51.0)\n",
      "Requirement already satisfied: kiwisolver>=1.3.1 in /opt/anaconda3/lib/python3.12/site-packages (from matplotlib->spectrum) (1.4.4)\n",
      "Requirement already satisfied: packaging>=20.0 in /opt/anaconda3/lib/python3.12/site-packages (from matplotlib->spectrum) (24.1)\n",
      "Requirement already satisfied: pillow>=8 in /opt/anaconda3/lib/python3.12/site-packages (from matplotlib->spectrum) (10.4.0)\n",
      "Requirement already satisfied: pyparsing>=2.3.1 in /opt/anaconda3/lib/python3.12/site-packages (from matplotlib->spectrum) (3.1.2)\n",
      "Requirement already satisfied: python-dateutil>=2.7 in /opt/anaconda3/lib/python3.12/site-packages (from matplotlib->spectrum) (2.9.0.post0)\n",
      "Requirement already satisfied: ptyprocess>=0.5 in /opt/anaconda3/lib/python3.12/site-packages (from pexpect<5.0.0,>=4.9.0->easydev->spectrum) (0.7.0)\n",
      "Requirement already satisfied: six>=1.5 in /opt/anaconda3/lib/python3.12/site-packages (from python-dateutil>=2.7->matplotlib->spectrum) (1.16.0)\n"
     ]
    }
   ],
   "source": [
    "!pip install spectrum"
   ]
  },
  {
   "cell_type": "code",
   "execution_count": 10,
   "id": "a2831a8b",
   "metadata": {},
   "outputs": [],
   "source": [
    "# Leer dataset\n",
    "\n",
    "data = pd.read_csv('datasets/south_africa_chd.csv')"
   ]
  },
  {
   "cell_type": "code",
   "execution_count": 11,
   "id": "aa56ab34",
   "metadata": {
    "scrolled": true
   },
   "outputs": [
    {
     "data": {
      "text/html": [
       "<div>\n",
       "<style scoped>\n",
       "    .dataframe tbody tr th:only-of-type {\n",
       "        vertical-align: middle;\n",
       "    }\n",
       "\n",
       "    .dataframe tbody tr th {\n",
       "        vertical-align: top;\n",
       "    }\n",
       "\n",
       "    .dataframe thead th {\n",
       "        text-align: right;\n",
       "    }\n",
       "</style>\n",
       "<table border=\"1\" class=\"dataframe\">\n",
       "  <thead>\n",
       "    <tr style=\"text-align: right;\">\n",
       "      <th></th>\n",
       "      <th>sbp</th>\n",
       "      <th>tobacco</th>\n",
       "      <th>ldl</th>\n",
       "      <th>adiposity</th>\n",
       "      <th>famhist</th>\n",
       "      <th>typea</th>\n",
       "      <th>obesity</th>\n",
       "      <th>alcohol</th>\n",
       "      <th>age</th>\n",
       "      <th>chd</th>\n",
       "    </tr>\n",
       "  </thead>\n",
       "  <tbody>\n",
       "    <tr>\n",
       "      <th>0</th>\n",
       "      <td>160</td>\n",
       "      <td>12.00</td>\n",
       "      <td>5.73</td>\n",
       "      <td>23.11</td>\n",
       "      <td>Present</td>\n",
       "      <td>49</td>\n",
       "      <td>25.30</td>\n",
       "      <td>97.20</td>\n",
       "      <td>52</td>\n",
       "      <td>Si</td>\n",
       "    </tr>\n",
       "    <tr>\n",
       "      <th>1</th>\n",
       "      <td>144</td>\n",
       "      <td>0.01</td>\n",
       "      <td>4.41</td>\n",
       "      <td>28.61</td>\n",
       "      <td>Absent</td>\n",
       "      <td>55</td>\n",
       "      <td>28.87</td>\n",
       "      <td>2.06</td>\n",
       "      <td>63</td>\n",
       "      <td>Si</td>\n",
       "    </tr>\n",
       "    <tr>\n",
       "      <th>2</th>\n",
       "      <td>118</td>\n",
       "      <td>0.08</td>\n",
       "      <td>3.48</td>\n",
       "      <td>32.28</td>\n",
       "      <td>Present</td>\n",
       "      <td>52</td>\n",
       "      <td>29.14</td>\n",
       "      <td>3.81</td>\n",
       "      <td>46</td>\n",
       "      <td>No</td>\n",
       "    </tr>\n",
       "    <tr>\n",
       "      <th>3</th>\n",
       "      <td>170</td>\n",
       "      <td>7.50</td>\n",
       "      <td>6.41</td>\n",
       "      <td>38.03</td>\n",
       "      <td>Present</td>\n",
       "      <td>51</td>\n",
       "      <td>31.99</td>\n",
       "      <td>24.26</td>\n",
       "      <td>58</td>\n",
       "      <td>Si</td>\n",
       "    </tr>\n",
       "    <tr>\n",
       "      <th>4</th>\n",
       "      <td>134</td>\n",
       "      <td>13.60</td>\n",
       "      <td>3.50</td>\n",
       "      <td>27.78</td>\n",
       "      <td>Present</td>\n",
       "      <td>60</td>\n",
       "      <td>25.99</td>\n",
       "      <td>57.34</td>\n",
       "      <td>49</td>\n",
       "      <td>Si</td>\n",
       "    </tr>\n",
       "  </tbody>\n",
       "</table>\n",
       "</div>"
      ],
      "text/plain": [
       "   sbp  tobacco   ldl  adiposity  famhist  typea  obesity  alcohol  age chd\n",
       "0  160    12.00  5.73      23.11  Present     49    25.30    97.20   52  Si\n",
       "1  144     0.01  4.41      28.61   Absent     55    28.87     2.06   63  Si\n",
       "2  118     0.08  3.48      32.28  Present     52    29.14     3.81   46  No\n",
       "3  170     7.50  6.41      38.03  Present     51    31.99    24.26   58  Si\n",
       "4  134    13.60  3.50      27.78  Present     60    25.99    57.34   49  Si"
      ]
     },
     "execution_count": 11,
     "metadata": {},
     "output_type": "execute_result"
    }
   ],
   "source": [
    "# Visualizar los primeros elementos del dataset\n",
    "\n",
    "data.head()"
   ]
  },
  {
   "cell_type": "code",
   "execution_count": 12,
   "id": "f0a4fe52",
   "metadata": {},
   "outputs": [
    {
     "data": {
      "text/plain": [
       "(462, 10)"
      ]
     },
     "execution_count": 12,
     "metadata": {},
     "output_type": "execute_result"
    }
   ],
   "source": [
    "# Forma del dataset\n",
    "\n",
    "data.shape"
   ]
  },
  {
   "cell_type": "code",
   "execution_count": 13,
   "id": "5ca4f5fa",
   "metadata": {},
   "outputs": [
    {
     "data": {
      "text/html": [
       "<div>\n",
       "<style scoped>\n",
       "    .dataframe tbody tr th:only-of-type {\n",
       "        vertical-align: middle;\n",
       "    }\n",
       "\n",
       "    .dataframe tbody tr th {\n",
       "        vertical-align: top;\n",
       "    }\n",
       "\n",
       "    .dataframe thead th {\n",
       "        text-align: right;\n",
       "    }\n",
       "</style>\n",
       "<table border=\"1\" class=\"dataframe\">\n",
       "  <thead>\n",
       "    <tr style=\"text-align: right;\">\n",
       "      <th></th>\n",
       "      <th>sbp</th>\n",
       "      <th>tobacco</th>\n",
       "      <th>ldl</th>\n",
       "      <th>adiposity</th>\n",
       "      <th>famhist</th>\n",
       "      <th>typea</th>\n",
       "      <th>obesity</th>\n",
       "      <th>alcohol</th>\n",
       "      <th>age</th>\n",
       "      <th>chd</th>\n",
       "    </tr>\n",
       "  </thead>\n",
       "  <tbody>\n",
       "    <tr>\n",
       "      <th>100</th>\n",
       "      <td>136</td>\n",
       "      <td>8.00</td>\n",
       "      <td>7.85</td>\n",
       "      <td>23.81</td>\n",
       "      <td>Present</td>\n",
       "      <td>51</td>\n",
       "      <td>22.69</td>\n",
       "      <td>2.78</td>\n",
       "      <td>50</td>\n",
       "      <td>No</td>\n",
       "    </tr>\n",
       "    <tr>\n",
       "      <th>101</th>\n",
       "      <td>166</td>\n",
       "      <td>0.07</td>\n",
       "      <td>4.03</td>\n",
       "      <td>29.29</td>\n",
       "      <td>Absent</td>\n",
       "      <td>53</td>\n",
       "      <td>28.37</td>\n",
       "      <td>0.00</td>\n",
       "      <td>27</td>\n",
       "      <td>No</td>\n",
       "    </tr>\n",
       "    <tr>\n",
       "      <th>102</th>\n",
       "      <td>118</td>\n",
       "      <td>0.00</td>\n",
       "      <td>4.34</td>\n",
       "      <td>30.12</td>\n",
       "      <td>Present</td>\n",
       "      <td>52</td>\n",
       "      <td>32.18</td>\n",
       "      <td>3.91</td>\n",
       "      <td>46</td>\n",
       "      <td>No</td>\n",
       "    </tr>\n",
       "    <tr>\n",
       "      <th>103</th>\n",
       "      <td>128</td>\n",
       "      <td>0.42</td>\n",
       "      <td>4.60</td>\n",
       "      <td>26.68</td>\n",
       "      <td>Absent</td>\n",
       "      <td>41</td>\n",
       "      <td>30.97</td>\n",
       "      <td>10.33</td>\n",
       "      <td>31</td>\n",
       "      <td>No</td>\n",
       "    </tr>\n",
       "    <tr>\n",
       "      <th>104</th>\n",
       "      <td>118</td>\n",
       "      <td>1.50</td>\n",
       "      <td>5.38</td>\n",
       "      <td>25.84</td>\n",
       "      <td>Absent</td>\n",
       "      <td>64</td>\n",
       "      <td>28.63</td>\n",
       "      <td>3.89</td>\n",
       "      <td>29</td>\n",
       "      <td>No</td>\n",
       "    </tr>\n",
       "    <tr>\n",
       "      <th>105</th>\n",
       "      <td>158</td>\n",
       "      <td>3.60</td>\n",
       "      <td>2.97</td>\n",
       "      <td>30.11</td>\n",
       "      <td>Absent</td>\n",
       "      <td>63</td>\n",
       "      <td>26.64</td>\n",
       "      <td>108.00</td>\n",
       "      <td>64</td>\n",
       "      <td>No</td>\n",
       "    </tr>\n",
       "  </tbody>\n",
       "</table>\n",
       "</div>"
      ],
      "text/plain": [
       "     sbp  tobacco   ldl  adiposity  famhist  typea  obesity  alcohol  age chd\n",
       "100  136     8.00  7.85      23.81  Present     51    22.69     2.78   50  No\n",
       "101  166     0.07  4.03      29.29   Absent     53    28.37     0.00   27  No\n",
       "102  118     0.00  4.34      30.12  Present     52    32.18     3.91   46  No\n",
       "103  128     0.42  4.60      26.68   Absent     41    30.97    10.33   31  No\n",
       "104  118     1.50  5.38      25.84   Absent     64    28.63     3.89   29  No\n",
       "105  158     3.60  2.97      30.11   Absent     63    26.64   108.00   64  No"
      ]
     },
     "execution_count": 13,
     "metadata": {},
     "output_type": "execute_result"
    }
   ],
   "source": [
    "# Visualizar un cojunto de elementos del dataset cualquiera\n",
    "\n",
    "data.iloc[100:106,:]"
   ]
  },
  {
   "cell_type": "code",
   "execution_count": 14,
   "id": "6bc78559",
   "metadata": {},
   "outputs": [],
   "source": [
    "# Selección de variables numéricas y categóricas\n",
    "\n",
    "list_var_num = ['sbp','tobacco','ldl','adiposity','typea','obesity','alcohol','age']\n",
    "list_var_cat = ['famhist','chd']\n",
    "\n",
    "var_num = data[list_var_num]\n",
    "var_cat = data[list_var_cat]"
   ]
  },
  {
   "cell_type": "code",
   "execution_count": 15,
   "id": "4a610a92",
   "metadata": {},
   "outputs": [
    {
     "data": {
      "text/html": [
       "<div>\n",
       "<style scoped>\n",
       "    .dataframe tbody tr th:only-of-type {\n",
       "        vertical-align: middle;\n",
       "    }\n",
       "\n",
       "    .dataframe tbody tr th {\n",
       "        vertical-align: top;\n",
       "    }\n",
       "\n",
       "    .dataframe thead th {\n",
       "        text-align: right;\n",
       "    }\n",
       "</style>\n",
       "<table border=\"1\" class=\"dataframe\">\n",
       "  <thead>\n",
       "    <tr style=\"text-align: right;\">\n",
       "      <th></th>\n",
       "      <th>sbp</th>\n",
       "      <th>tobacco</th>\n",
       "      <th>ldl</th>\n",
       "      <th>adiposity</th>\n",
       "      <th>typea</th>\n",
       "      <th>obesity</th>\n",
       "      <th>alcohol</th>\n",
       "      <th>age</th>\n",
       "    </tr>\n",
       "  </thead>\n",
       "  <tbody>\n",
       "    <tr>\n",
       "      <th>0</th>\n",
       "      <td>160</td>\n",
       "      <td>12.00</td>\n",
       "      <td>5.73</td>\n",
       "      <td>23.11</td>\n",
       "      <td>49</td>\n",
       "      <td>25.30</td>\n",
       "      <td>97.20</td>\n",
       "      <td>52</td>\n",
       "    </tr>\n",
       "    <tr>\n",
       "      <th>1</th>\n",
       "      <td>144</td>\n",
       "      <td>0.01</td>\n",
       "      <td>4.41</td>\n",
       "      <td>28.61</td>\n",
       "      <td>55</td>\n",
       "      <td>28.87</td>\n",
       "      <td>2.06</td>\n",
       "      <td>63</td>\n",
       "    </tr>\n",
       "    <tr>\n",
       "      <th>2</th>\n",
       "      <td>118</td>\n",
       "      <td>0.08</td>\n",
       "      <td>3.48</td>\n",
       "      <td>32.28</td>\n",
       "      <td>52</td>\n",
       "      <td>29.14</td>\n",
       "      <td>3.81</td>\n",
       "      <td>46</td>\n",
       "    </tr>\n",
       "    <tr>\n",
       "      <th>3</th>\n",
       "      <td>170</td>\n",
       "      <td>7.50</td>\n",
       "      <td>6.41</td>\n",
       "      <td>38.03</td>\n",
       "      <td>51</td>\n",
       "      <td>31.99</td>\n",
       "      <td>24.26</td>\n",
       "      <td>58</td>\n",
       "    </tr>\n",
       "    <tr>\n",
       "      <th>4</th>\n",
       "      <td>134</td>\n",
       "      <td>13.60</td>\n",
       "      <td>3.50</td>\n",
       "      <td>27.78</td>\n",
       "      <td>60</td>\n",
       "      <td>25.99</td>\n",
       "      <td>57.34</td>\n",
       "      <td>49</td>\n",
       "    </tr>\n",
       "  </tbody>\n",
       "</table>\n",
       "</div>"
      ],
      "text/plain": [
       "   sbp  tobacco   ldl  adiposity  typea  obesity  alcohol  age\n",
       "0  160    12.00  5.73      23.11     49    25.30    97.20   52\n",
       "1  144     0.01  4.41      28.61     55    28.87     2.06   63\n",
       "2  118     0.08  3.48      32.28     52    29.14     3.81   46\n",
       "3  170     7.50  6.41      38.03     51    31.99    24.26   58\n",
       "4  134    13.60  3.50      27.78     60    25.99    57.34   49"
      ]
     },
     "execution_count": 15,
     "metadata": {},
     "output_type": "execute_result"
    }
   ],
   "source": [
    "var_num.head()"
   ]
  },
  {
   "cell_type": "code",
   "execution_count": 16,
   "id": "eeae4a32",
   "metadata": {},
   "outputs": [
    {
     "data": {
      "text/html": [
       "<div>\n",
       "<style scoped>\n",
       "    .dataframe tbody tr th:only-of-type {\n",
       "        vertical-align: middle;\n",
       "    }\n",
       "\n",
       "    .dataframe tbody tr th {\n",
       "        vertical-align: top;\n",
       "    }\n",
       "\n",
       "    .dataframe thead th {\n",
       "        text-align: right;\n",
       "    }\n",
       "</style>\n",
       "<table border=\"1\" class=\"dataframe\">\n",
       "  <thead>\n",
       "    <tr style=\"text-align: right;\">\n",
       "      <th></th>\n",
       "      <th>famhist</th>\n",
       "      <th>chd</th>\n",
       "    </tr>\n",
       "  </thead>\n",
       "  <tbody>\n",
       "    <tr>\n",
       "      <th>0</th>\n",
       "      <td>Present</td>\n",
       "      <td>Si</td>\n",
       "    </tr>\n",
       "    <tr>\n",
       "      <th>1</th>\n",
       "      <td>Absent</td>\n",
       "      <td>Si</td>\n",
       "    </tr>\n",
       "    <tr>\n",
       "      <th>2</th>\n",
       "      <td>Present</td>\n",
       "      <td>No</td>\n",
       "    </tr>\n",
       "    <tr>\n",
       "      <th>3</th>\n",
       "      <td>Present</td>\n",
       "      <td>Si</td>\n",
       "    </tr>\n",
       "    <tr>\n",
       "      <th>4</th>\n",
       "      <td>Present</td>\n",
       "      <td>Si</td>\n",
       "    </tr>\n",
       "  </tbody>\n",
       "</table>\n",
       "</div>"
      ],
      "text/plain": [
       "   famhist chd\n",
       "0  Present  Si\n",
       "1   Absent  Si\n",
       "2  Present  No\n",
       "3  Present  Si\n",
       "4  Present  Si"
      ]
     },
     "execution_count": 16,
     "metadata": {},
     "output_type": "execute_result"
    }
   ],
   "source": [
    "var_cat.head()"
   ]
  },
  {
   "attachments": {},
   "cell_type": "markdown",
   "id": "8ba3923c",
   "metadata": {},
   "source": [
    "### 1) Análisis univariante no gráfico"
   ]
  },
  {
   "attachments": {},
   "cell_type": "markdown",
   "id": "12a67d0c",
   "metadata": {},
   "source": [
    "#### Categóricas"
   ]
  },
  {
   "cell_type": "code",
   "execution_count": 17,
   "id": "92b6c1ca",
   "metadata": {},
   "outputs": [
    {
     "data": {
      "text/html": [
       "<div>\n",
       "<style scoped>\n",
       "    .dataframe tbody tr th:only-of-type {\n",
       "        vertical-align: middle;\n",
       "    }\n",
       "\n",
       "    .dataframe tbody tr th {\n",
       "        vertical-align: top;\n",
       "    }\n",
       "\n",
       "    .dataframe thead th {\n",
       "        text-align: right;\n",
       "    }\n",
       "</style>\n",
       "<table border=\"1\" class=\"dataframe\">\n",
       "  <thead>\n",
       "    <tr style=\"text-align: right;\">\n",
       "      <th>famhist</th>\n",
       "      <th>Absent</th>\n",
       "      <th>Present</th>\n",
       "      <th>Total</th>\n",
       "    </tr>\n",
       "  </thead>\n",
       "  <tbody>\n",
       "    <tr>\n",
       "      <th>count</th>\n",
       "      <td>270.000000</td>\n",
       "      <td>192.000000</td>\n",
       "      <td>462.0</td>\n",
       "    </tr>\n",
       "    <tr>\n",
       "      <th>proportion</th>\n",
       "      <td>0.584416</td>\n",
       "      <td>0.415584</td>\n",
       "      <td>1.0</td>\n",
       "    </tr>\n",
       "    <tr>\n",
       "      <th>percent</th>\n",
       "      <td>58.441558</td>\n",
       "      <td>41.558442</td>\n",
       "      <td>100.0</td>\n",
       "    </tr>\n",
       "  </tbody>\n",
       "</table>\n",
       "</div>"
      ],
      "text/plain": [
       "famhist         Absent     Present  Total\n",
       "count       270.000000  192.000000  462.0\n",
       "proportion    0.584416    0.415584    1.0\n",
       "percent      58.441558   41.558442  100.0"
      ]
     },
     "execution_count": 17,
     "metadata": {},
     "output_type": "execute_result"
    }
   ],
   "source": [
    "# Tabla de conteo, proporción y procentaje\n",
    "\n",
    "## variable famhist\n",
    "\n",
    "count = var_cat['famhist'].value_counts()\n",
    "proportion = count/var_cat['famhist'].count()\n",
    "percent = proportion*100\n",
    "\n",
    "table = pd.DataFrame({'count':count, \n",
    "                      'proportion':proportion,\n",
    "                      'percent':percent}).transpose()\n",
    "\n",
    "table['Total'] = table.sum(axis=1)\n",
    "\n",
    "table"
   ]
  },
  {
   "cell_type": "code",
   "execution_count": 18,
   "id": "07f1bb74",
   "metadata": {},
   "outputs": [
    {
     "data": {
      "text/html": [
       "<div>\n",
       "<style scoped>\n",
       "    .dataframe tbody tr th:only-of-type {\n",
       "        vertical-align: middle;\n",
       "    }\n",
       "\n",
       "    .dataframe tbody tr th {\n",
       "        vertical-align: top;\n",
       "    }\n",
       "\n",
       "    .dataframe thead th {\n",
       "        text-align: right;\n",
       "    }\n",
       "</style>\n",
       "<table border=\"1\" class=\"dataframe\">\n",
       "  <thead>\n",
       "    <tr style=\"text-align: right;\">\n",
       "      <th>chd</th>\n",
       "      <th>No</th>\n",
       "      <th>Si</th>\n",
       "      <th>Total</th>\n",
       "    </tr>\n",
       "  </thead>\n",
       "  <tbody>\n",
       "    <tr>\n",
       "      <th>count</th>\n",
       "      <td>302.000000</td>\n",
       "      <td>160.000000</td>\n",
       "      <td>462.0</td>\n",
       "    </tr>\n",
       "    <tr>\n",
       "      <th>proportion</th>\n",
       "      <td>0.653680</td>\n",
       "      <td>0.346320</td>\n",
       "      <td>1.0</td>\n",
       "    </tr>\n",
       "    <tr>\n",
       "      <th>percent</th>\n",
       "      <td>65.367965</td>\n",
       "      <td>34.632035</td>\n",
       "      <td>100.0</td>\n",
       "    </tr>\n",
       "  </tbody>\n",
       "</table>\n",
       "</div>"
      ],
      "text/plain": [
       "chd                 No          Si  Total\n",
       "count       302.000000  160.000000  462.0\n",
       "proportion    0.653680    0.346320    1.0\n",
       "percent      65.367965   34.632035  100.0"
      ]
     },
     "execution_count": 18,
     "metadata": {},
     "output_type": "execute_result"
    }
   ],
   "source": [
    "# Realiza la tabla de conteo, proporción y procentaje para la variable categórica chd\n",
    "count = var_cat['chd'].value_counts()\n",
    "proportion = count/var_cat['chd'].count()\n",
    "percent = proportion*100\n",
    "\n",
    "table = pd.DataFrame({'count':count, \n",
    "                      'proportion':proportion,\n",
    "                      'percent':percent}).transpose()\n",
    "\n",
    "table['Total'] = table.sum(axis=1)\n",
    "\n",
    "table"
   ]
  },
  {
   "attachments": {},
   "cell_type": "markdown",
   "id": "69f4044f",
   "metadata": {},
   "source": [
    "#### Numéricas"
   ]
  },
  {
   "cell_type": "code",
   "execution_count": 19,
   "id": "f7a34130",
   "metadata": {},
   "outputs": [
    {
     "name": "stdout",
     "output_type": "stream",
     "text": [
      "Media: 42.816017316017316\n",
      "Mediana: 45.0\n",
      "Moda: 16\n",
      "Varianza: 213.42160839883172\n",
      "Desviación estándar: 14.60895644455249\n"
     ]
    }
   ],
   "source": [
    "# Calcula, para una variable numérica que elijas, la tendencia central (media, mediana y moda) \n",
    "# y la dispersión (varianza y desviación estándar)\n",
    "\n",
    "# Seleccionamos la variable 'age' como ejemplo\n",
    "variable = var_num['age']\n",
    "\n",
    "# Tendencia central\n",
    "media = variable.mean() # media\n",
    "mediana = variable.median() # mediana\n",
    "moda = variable.mode()[0]  # mode() devuelve una Serie, tomamos el primer valor => moda\n",
    "\n",
    "# Dispersión\n",
    "varianza = variable.var() # varianza\n",
    "desviacion_estandar = variable.std()    # desviación típica\n",
    "\n",
    "print(f\"Media: {media}\")\n",
    "print(f\"Mediana: {mediana}\")\n",
    "print(f\"Moda: {moda}\")\n",
    "print(f\"Varianza: {varianza}\")\n",
    "print(f\"Desviación estándar: {desviacion_estandar}\")"
   ]
  },
  {
   "attachments": {},
   "cell_type": "markdown",
   "id": "869fe23a",
   "metadata": {},
   "source": [
    "### 2) Análisis univariante gráfico"
   ]
  },
  {
   "attachments": {},
   "cell_type": "markdown",
   "id": "d9b8c483",
   "metadata": {},
   "source": [
    "#### Categóricas"
   ]
  },
  {
   "cell_type": "code",
   "execution_count": 20,
   "id": "81567392",
   "metadata": {},
   "outputs": [
    {
     "data": {
      "image/png": "[encoded data removed]",
      "text/plain": [
       "<Figure size 640x480 with 1 Axes>"
      ]
     },
     "metadata": {},
     "output_type": "display_data"
    }
   ],
   "source": [
    "# Crea un **bar chart** para una variable categórica que elijas\n",
    "\n",
    "# Seleccionamos la variable 'chd' como ejemplo\n",
    "sns.countplot(x='chd', data=var_cat)\n",
    "plt.title('Distribución de CHD')\n",
    "plt.xlabel('CHD')\n",
    "plt.ylabel('Frecuencia')\n",
    "plt.show()"
   ]
  },
  {
   "attachments": {},
   "cell_type": "markdown",
   "id": "3c8e4700",
   "metadata": {},
   "source": [
    "#### Numéricas"
   ]
  },
  {
   "cell_type": "code",
   "execution_count": 21,
   "id": "82d7e668",
   "metadata": {},
   "outputs": [
    {
     "data": {
      "image/png": "[encoded data removed]",
      "text/plain": [
       "<Figure size 1200x600 with 2 Axes>"
      ]
     },
     "metadata": {},
     "output_type": "display_data"
    }
   ],
   "source": [
    "# Crea un histograma y un boxplot para una variable numérica que elijas\n",
    "\n",
    "# Seleccionamos la variable 'age' como ejemplo\n",
    "plt.figure(figsize=(12, 6))\n",
    "\n",
    "# Histograma\n",
    "plt.subplot(1, 2, 1)\n",
    "sns.histplot(var_num['age'], kde=True)\n",
    "plt.title('Histograma de Edad')\n",
    "plt.xlabel('Edad')\n",
    "plt.ylabel('Frecuencia')\n",
    "\n",
    "# Boxplot\n",
    "plt.subplot(1, 2, 2)\n",
    "sns.boxplot(y=var_num['age'])\n",
    "plt.title('Boxplot de Edad')\n",
    "plt.ylabel('Edad')\n",
    "\n",
    "plt.show()"
   ]
  },
  {
   "attachments": {},
   "cell_type": "markdown",
   "id": "5bf7d99f",
   "metadata": {},
   "source": [
    "### 3) Análisis multivariante no gráfico"
   ]
  },
  {
   "attachments": {},
   "cell_type": "markdown",
   "id": "18726d97",
   "metadata": {},
   "source": [
    "#### Categóricas"
   ]
  },
  {
   "cell_type": "code",
   "execution_count": 22,
   "id": "998db642",
   "metadata": {},
   "outputs": [
    {
     "name": "stdout",
     "output_type": "stream",
     "text": [
      "chd       No  Si\n",
      "famhist         \n",
      "Absent   206  64\n",
      "Present   96  96\n"
     ]
    }
   ],
   "source": [
    "# Calcula una tabla cruzada para las variables categóricas del dataset\n",
    "\n",
    "tabla_cruzada = pd.crosstab(var_cat['famhist'], var_cat['chd'])\n",
    "print(tabla_cruzada)"
   ]
  },
  {
   "attachments": {},
   "cell_type": "markdown",
   "id": "9c025a02",
   "metadata": {},
   "source": [
    "#### Numéricas"
   ]
  },
  {
   "cell_type": "code",
   "execution_count": 23,
   "id": "a4890727",
   "metadata": {},
   "outputs": [
    {
     "name": "stdout",
     "output_type": "stream",
     "text": [
      "Matriz de Covarianza:\n",
      "                  sbp    tobacco       ldl  adiposity      typea    obesity  \\\n",
      "sbp        420.099018  19.980904  6.719048  56.853088 -11.561146  20.560605   \n",
      "tobacco     19.980904  21.095870  1.511467  10.243648  -0.658701   2.410084   \n",
      "ldl          6.719048   1.511467  4.288665   7.096730   0.895541   2.884043   \n",
      "adiposity   56.853088  10.243648  7.096730  60.539271  -3.295625  23.492566   \n",
      "typea      -11.561146  -0.658701  0.895541  -3.295625  96.383976   3.061481   \n",
      "obesity     20.560605   2.410084  2.884043  23.492566   3.061481  17.755101   \n",
      "alcohol     70.295979  22.579878 -1.693487  19.110856   9.493078   5.324835   \n",
      "age        116.409504  30.216833  9.433118  71.150916 -14.716201  17.961062   \n",
      "\n",
      "              alcohol         age  \n",
      "sbp         70.295979  116.409504  \n",
      "tobacco     22.579878   30.216833  \n",
      "ldl         -1.693487    9.433118  \n",
      "adiposity   19.110856   71.150916  \n",
      "typea        9.493078  -14.716201  \n",
      "obesity      5.324835   17.961062  \n",
      "alcohol    599.322235   36.166493  \n",
      "age         36.166493  213.421608  \n",
      "\n",
      "Matriz de Correlación:\n",
      "                sbp   tobacco       ldl  adiposity     typea   obesity  \\\n",
      "sbp        1.000000  0.212247  0.158296   0.356500 -0.057454  0.238067   \n",
      "tobacco    0.212247  1.000000  0.158905   0.286640 -0.014608  0.124529   \n",
      "ldl        0.158296  0.158905  1.000000   0.440432  0.044048  0.330506   \n",
      "adiposity  0.356500  0.286640  0.440432   1.000000 -0.043144  0.716556   \n",
      "typea     -0.057454 -0.014608  0.044048  -0.043144  1.000000  0.074006   \n",
      "obesity    0.238067  0.124529  0.330506   0.716556  0.074006  1.000000   \n",
      "alcohol    0.140096  0.200813 -0.033403   0.100330  0.039498  0.051620   \n",
      "age        0.388771  0.450330  0.311799   0.625954 -0.102606  0.291777   \n",
      "\n",
      "            alcohol       age  \n",
      "sbp        0.140096  0.388771  \n",
      "tobacco    0.200813  0.450330  \n",
      "ldl       -0.033403  0.311799  \n",
      "adiposity  0.100330  0.625954  \n",
      "typea      0.039498 -0.102606  \n",
      "obesity    0.051620  0.291777  \n",
      "alcohol    1.000000  0.101125  \n",
      "age        0.101125  1.000000  \n"
     ]
    }
   ],
   "source": [
    "# Calcula la tabla de covarianzas y correlaciones para las variables numéricas del dataset\n",
    "\n",
    "# Covarianza\n",
    "covarianza = var_num.cov()\n",
    "print(\"Matriz de Covarianza:\")\n",
    "print(covarianza)\n",
    "\n",
    "# Correlación\n",
    "correlacion = var_num.corr()\n",
    "print(\"\\nMatriz de Correlación:\")\n",
    "print(correlacion)"
   ]
  },
  {
   "attachments": {},
   "cell_type": "markdown",
   "id": "e904d85a",
   "metadata": {},
   "source": [
    "### 4) Análisis multivariante gráfico"
   ]
  },
  {
   "cell_type": "code",
   "execution_count": 24,
   "id": "ea0e6973",
   "metadata": {},
   "outputs": [
    {
     "data": {
      "image/png": "[encoded data removed]",
      "text/plain": [
       "<Figure size 640x480 with 1 Axes>"
      ]
     },
     "metadata": {},
     "output_type": "display_data"
    }
   ],
   "source": [
    "# Crea un scatterplot de dos variables numéricas del dataset\n",
    "\n",
    "# Seleccionamos 'age' y 'sbp' como ejemplo\n",
    "sns.scatterplot(x='age', y='sbp', data=var_num)\n",
    "plt.title('Scatterplot de Edad vs SBP')\n",
    "plt.xlabel('Edad')\n",
    "plt.ylabel('SBP')\n",
    "plt.show()"
   ]
  },
  {
   "cell_type": "code",
   "execution_count": 25,
   "id": "cd7804bd",
   "metadata": {},
   "outputs": [
    {
     "data": {
      "image/png": "[encoded data removed]",
      "text/plain": [
       "<Figure size 640x480 with 1 Axes>"
      ]
     },
     "metadata": {},
     "output_type": "display_data"
    }
   ],
   "source": [
    "# EXTRA: Crea un bubbleplot de dos o tres variables numéricas y una categórica del dataset\n",
    "\n",
    "# Seleccionamos 'age', 'sbp' y 'chd' como ejemplo\n",
    "sns.scatterplot(x='age', y='sbp', size='obesity', hue='chd', data=data)\n",
    "plt.title('Bubbleplot de Edad, SBP y CHD')\n",
    "plt.xlabel('Edad')\n",
    "plt.ylabel('SBP')\n",
    "plt.legend(title='CHD')\n",
    "plt.show()"
   ]
  },
  {
   "cell_type": "code",
   "execution_count": null,
   "id": "4d7b602e",
   "metadata": {},
   "outputs": [],
   "source": []
  }
 ],
 "metadata": {
  "kernelspec": {
   "display_name": "base",
   "language": "python",
   "name": "python3"
  },
  "language_info": {
   "codemirror_mode": {
    "name": "ipython",
    "version": 3
   },
   "file_extension": ".py",
   "mimetype": "text/x-python",
   "name": "python",
   "nbconvert_exporter": "python",
   "pygments_lexer": "ipython3",
   "version": "3.12.7"
  }
 },
 "nbformat": 4,
 "nbformat_minor": 5
}
